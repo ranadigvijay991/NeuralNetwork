{
 "cells": [
  {
   "cell_type": "code",
   "execution_count": null,
   "metadata": {
    "id": "ZxfzVLDD8pOk"
   },
   "outputs": [],
   "source": [
    "import torch\n",
    "import sklearn\n"
   ]
  },
  {
   "cell_type": "code",
   "execution_count": null,
   "metadata": {
    "colab": {
     "base_uri": "https://localhost:8080/"
    },
    "id": "Ychf-Ig284wF",
    "outputId": "58be6874-688d-43ef-a3e7-00d2c90a6a84"
   },
   "outputs": [
    {
     "data": {
      "text/plain": [
       "<torch._C.Generator at 0x7f9bff562ad0>"
      ]
     },
     "execution_count": 41,
     "metadata": {},
     "output_type": "execute_result"
    }
   ],
   "source": [
    "from sklearn.datasets import make_classification\n",
    "torch.manual_seed(123)"
   ]
  },
  {
   "cell_type": "code",
   "execution_count": null,
   "metadata": {
    "id": "1LxdPxns9Ax3"
   },
   "outputs": [],
   "source": [
    "## Make a Toy Dataset\n",
    "X,y=make_classification(n_samples=1000,n_features=4 ,n_classes=2)\n",
    "\n",
    "### Change it into the Tensor\n",
    "X=torch.tensor(X,dtype=torch.float32)\n",
    "y=torch.tensor(y,dtype=torch.float32)\n",
    "\n"
   ]
  },
  {
   "cell_type": "code",
   "execution_count": null,
   "metadata": {
    "colab": {
     "base_uri": "https://localhost:8080/"
    },
    "id": "iW3ACthE9UHy",
    "outputId": "63b936b9-da0f-4318-e569-aae26dbfd07d"
   },
   "outputs": [
    {
     "data": {
      "text/plain": [
       "tensor([937, 859, 548, 487, 148, 190, 199, 632,  33, 714])"
      ]
     },
     "execution_count": 16,
     "metadata": {},
     "output_type": "execute_result"
    }
   ],
   "source": [
    "### Data Suffling\n",
    "torch.manual_seed(10)\n",
    "suffle_idx=torch.randperm(y.size(0),dtype=torch.long)\n",
    "X,y=X[suffle_idx],y[suffle_idx]\n",
    "suffle_idx[:10]"
   ]
  },
  {
   "cell_type": "code",
   "execution_count": null,
   "metadata": {
    "id": "htyqar_O_gQS"
   },
   "outputs": [],
   "source": [
    "#### Train Test split\n",
    "train_size=int(suffle_idx.size(0)*0.7)\n",
    "train_idx= suffle_idx[:train_size]\n",
    "test_idx=suffle_idx[train_size:]\n",
    "X_train,y_train=X[train_idx],y[train_idx]\n",
    "X_test,y_test=X[test_idx],y[test_idx]"
   ]
  },
  {
   "cell_type": "code",
   "execution_count": null,
   "metadata": {
    "colab": {
     "base_uri": "https://localhost:8080/"
    },
    "id": "y612znKOZBe1",
    "outputId": "f998d90c-c94b-41e1-846f-69d93828d3d9"
   },
   "outputs": [
    {
     "data": {
      "text/plain": [
       "torch.Size([700, 4])"
      ]
     },
     "execution_count": 45,
     "metadata": {},
     "output_type": "execute_result"
    }
   ],
   "source": [
    "X_train.shape"
   ]
  },
  {
   "cell_type": "code",
   "execution_count": null,
   "metadata": {
    "colab": {
     "base_uri": "https://localhost:8080/"
    },
    "id": "qph9HFKGZE5I",
    "outputId": "76c65bbc-5b38-42c5-d80b-948d1755b881"
   },
   "outputs": [
    {
     "data": {
      "text/plain": [
       "torch.Size([300, 4])"
      ]
     },
     "execution_count": 46,
     "metadata": {},
     "output_type": "execute_result"
    }
   ],
   "source": [
    "X_test.shape"
   ]
  },
  {
   "cell_type": "code",
   "execution_count": null,
   "metadata": {
    "id": "b6lDzsNjAD6Q"
   },
   "outputs": [],
   "source": [
    "#### Normalize\n",
    "\n",
    "mean,std_dev=X_train.mean(dim=0) ,X_train.std(dim=0)\n",
    "X_train=(X_train-mean)/std_dev\n",
    "X_test=(X_test-mean)/std_dev"
   ]
  },
  {
   "cell_type": "code",
   "execution_count": null,
   "metadata": {
    "id": "QDGeHX1VDcDG"
   },
   "outputs": [],
   "source": [
    "import torch.nn as nn\n",
    "from torch.autograd import grad"
   ]
  },
  {
   "cell_type": "code",
   "execution_count": null,
   "metadata": {
    "id": "S5gFo5e-Dkon"
   },
   "outputs": [],
   "source": [
    "class NN():\n",
    "  def __init__(self,n_features):\n",
    "    self.n_features=n_features\n",
    "    self.weight=torch.zeros(size=(n_features,1),dtype=torch.float,requires_grad=True)\n",
    "    self.bias=torch.zeros(1,dtype=torch.float,requires_grad=True)\n",
    "  \n",
    "\n",
    "  def forward(self,x):\n",
    "    output=torch.add(torch.mm(x,self.weight),self.bias)\n",
    "    return output.view(-1)\n",
    "\n",
    "def loss_fn(yhat,y):\n",
    "  return torch.mean((yhat-y)**2)\n"
   ]
  },
  {
   "cell_type": "code",
   "execution_count": null,
   "metadata": {
    "id": "W4VG658oG6Sk"
   },
   "outputs": [],
   "source": [
    "def train(model,x,y,n_epoch=10,lr=0.001,seed=23,bsz=50):\n",
    "\n",
    "  cost=[]\n",
    "  torch.manual_seed(seed)\n",
    "  for i in range(n_epoch):\n",
    "    suffle_idx=torch.randperm(y.size(0))\n",
    "    batches=torch.split(suffle_idx,bsz)\n",
    "\n",
    "    for idx in batches:\n",
    "      yhat=model.forward(x[idx])\n",
    "      loss=loss_fn(yhat,y[idx])\n",
    "\n",
    "\n",
    "      grad_w=grad(loss,model.weight,retain_graph=True)[0]\n",
    "      grad_b=grad(loss,model.bias)[0]\n",
    "\n",
    "      model.weight=model.weight-lr*grad_w\n",
    "      model.bias=model.bias-lr*grad_b\n",
    "\n",
    "\n",
    "    with torch.no_grad():\n",
    "      yhat=model.forward(x)\n",
    "      curr_loss=loss_fn(yhat,y)\n",
    "      print('Epoc: %3d ' % (i+1),end=\"\")\n",
    "      print('| MSE % .5f' % curr_loss)\n",
    "      cost.append(curr_loss)\n",
    "      \n",
    "  return cost\n",
    "\n",
    "\n"
   ]
  },
  {
   "cell_type": "code",
   "execution_count": null,
   "metadata": {
    "colab": {
     "base_uri": "https://localhost:8080/"
    },
    "id": "pg5M3m31Fo39",
    "outputId": "1b1a6525-5c32-4acc-82bb-35fd5a7caffa"
   },
   "outputs": [
    {
     "name": "stdout",
     "output_type": "stream",
     "text": [
      "Epoc:   1 | MSE  0.45886\n",
      "Epoc:   2 | MSE  0.42877\n",
      "Epoc:   3 | MSE  0.40201\n",
      "Epoc:   4 | MSE  0.37814\n",
      "Epoc:   5 | MSE  0.35681\n",
      "Epoc:   6 | MSE  0.33764\n",
      "Epoc:   7 | MSE  0.32035\n",
      "Epoc:   8 | MSE  0.30470\n",
      "Epoc:   9 | MSE  0.29051\n",
      "Epoc:  10 | MSE  0.27759\n",
      "Epoc:  11 | MSE  0.26578\n",
      "Epoc:  12 | MSE  0.25497\n",
      "Epoc:  13 | MSE  0.24505\n",
      "Epoc:  14 | MSE  0.23590\n",
      "Epoc:  15 | MSE  0.22746\n",
      "Epoc:  16 | MSE  0.21965\n",
      "Epoc:  17 | MSE  0.21241\n",
      "Epoc:  18 | MSE  0.20567\n",
      "Epoc:  19 | MSE  0.19940\n",
      "Epoc:  20 | MSE  0.19356\n",
      "Epoc:  21 | MSE  0.18811\n",
      "Epoc:  22 | MSE  0.18301\n",
      "Epoc:  23 | MSE  0.17824\n",
      "Epoc:  24 | MSE  0.17376\n",
      "Epoc:  25 | MSE  0.16956\n",
      "Epoc:  26 | MSE  0.16562\n",
      "Epoc:  27 | MSE  0.16192\n",
      "Epoc:  28 | MSE  0.15844\n",
      "Epoc:  29 | MSE  0.15516\n",
      "Epoc:  30 | MSE  0.15207\n",
      "Epoc:  31 | MSE  0.14916\n",
      "Epoc:  32 | MSE  0.14642\n",
      "Epoc:  33 | MSE  0.14383\n",
      "Epoc:  34 | MSE  0.14139\n",
      "Epoc:  35 | MSE  0.13908\n",
      "Epoc:  36 | MSE  0.13691\n",
      "Epoc:  37 | MSE  0.13486\n",
      "Epoc:  38 | MSE  0.13292\n",
      "Epoc:  39 | MSE  0.13109\n",
      "Epoc:  40 | MSE  0.12936\n",
      "Epoc:  41 | MSE  0.12772\n",
      "Epoc:  42 | MSE  0.12617\n",
      "Epoc:  43 | MSE  0.12471\n",
      "Epoc:  44 | MSE  0.12333\n",
      "Epoc:  45 | MSE  0.12202\n",
      "Epoc:  46 | MSE  0.12079\n",
      "Epoc:  47 | MSE  0.11962\n",
      "Epoc:  48 | MSE  0.11851\n",
      "Epoc:  49 | MSE  0.11746\n",
      "Epoc:  50 | MSE  0.11647\n"
     ]
    }
   ],
   "source": [
    "model=NN(X_train.size(1))\n",
    "cost=train(model,X_train,y_train,n_epoch=50)"
   ]
  },
  {
   "cell_type": "code",
   "execution_count": null,
   "metadata": {
    "colab": {
     "base_uri": "https://localhost:8080/",
     "height": 279
    },
    "id": "AUiMMWXeX2X6",
    "outputId": "6f603d0f-a2f7-46f8-d400-ee136818a28c"
   },
   "outputs": [
    {
     "data": {
      "image/png": "[encoded data removed]",
      "text/plain": [
       "<Figure size 432x288 with 1 Axes>"
      ]
     },
     "metadata": {
      "needs_background": "light"
     },
     "output_type": "display_data"
    }
   ],
   "source": [
    "import matplotlib.pyplot as plt\n",
    "plt.plot(range(len(cost)),cost)\n",
    "plt.ylabel('Mean Sqare Error')\n",
    "plt.xlabel('Epoc')\n",
    "plt.show()"
   ]
  },
  {
   "cell_type": "code",
   "execution_count": null,
   "metadata": {
    "colab": {
     "base_uri": "https://localhost:8080/"
    },
    "id": "noMdRIQnY2yD",
    "outputId": "ea1683c1-eb83-4271-95e8-e9e28e21b644"
   },
   "outputs": [
    {
     "name": "stdout",
     "output_type": "stream",
     "text": [
      "Training Accuracy: 87.00\n",
      "Testing Accuracy: 88.00\n"
     ]
    }
   ],
   "source": [
    "ones=torch.ones(y_train.size())\n",
    "zero=torch.zeros(y_train.size())\n",
    "train_pred=model.forward(X_train)\n",
    "train_acc=torch.mean((  \n",
    "    torch.where(train_pred > 0.5,\n",
    "                ones,zero).int()==y_train).float())\n",
    "\n",
    "\n",
    "ones=torch.ones(y_test.size())\n",
    "zeros=torch.zeros(y_test.size())\n",
    "test_pred=model.forward(X_test)\n",
    "test_acc=torch.mean((torch.where(test_pred> 0.5,ones,zeros).int()==y_test).float())\n",
    "\n",
    "print('Training Accuracy: %.2f' % (train_acc*100))\n",
    "print('Testing Accuracy: %.2f' % (test_acc*100))\n"
   ]
  },
  {
   "cell_type": "markdown",
   "metadata": {
    "id": "0jE4vxUqhE9S"
   },
   "source": [
    "### Model Using Pytorch"
   ]
  },
  {
   "cell_type": "code",
   "execution_count": null,
   "metadata": {
    "id": "y3lKWHDh3Z2E"
   },
   "outputs": [],
   "source": [
    "import torch\n",
    "import sklearn"
   ]
  },
  {
   "cell_type": "code",
   "execution_count": null,
   "metadata": {
    "id": "mIvsPBpi3exX"
   },
   "outputs": [],
   "source": [
    "from sklearn.datasets import make_classification\n",
    "from sklearn.model_selection import train_test_split\n",
    "from sklearn.preprocessing import StandardScaler"
   ]
  },
  {
   "cell_type": "code",
   "execution_count": null,
   "metadata": {
    "id": "1JIHbj2035fP"
   },
   "outputs": [],
   "source": [
    "X,y=make_classification(n_samples=1000,n_classes=2,n_features=4)\n",
    "scaler=StandardScaler()\n",
    "X=scaler.fit_transform(X)\n",
    "X=torch.tensor(X,dtype=torch.float32)\n",
    "y=torch.tensor(y,dtype=torch.float32)"
   ]
  },
  {
   "cell_type": "code",
   "execution_count": null,
   "metadata": {
    "id": "CqWr2Ybd5ugi"
   },
   "outputs": [],
   "source": []
  },
  {
   "cell_type": "code",
   "execution_count": null,
   "metadata": {
    "colab": {
     "base_uri": "https://localhost:8080/"
    },
    "id": "vOTlEa224ok7",
    "outputId": "420b3a01-6d5a-4fb8-9917-e9fc22d984ba"
   },
   "outputs": [
    {
     "name": "stdout",
     "output_type": "stream",
     "text": [
      "torch.Size([700, 4])\n",
      "torch.Size([300, 4])\n"
     ]
    }
   ],
   "source": [
    "X_train,X_test,y_train,y_test=train_test_split(X,y,test_size=.3,random_state=21)\n",
    "print(X_train.shape)\n",
    "print(X_test.shape)"
   ]
  },
  {
   "cell_type": "code",
   "execution_count": null,
   "metadata": {
    "id": "vpJjGYOI6Qk7"
   },
   "outputs": [],
   "source": []
  },
  {
   "cell_type": "code",
   "execution_count": null,
   "metadata": {
    "id": "DNSgj7UkhIIK"
   },
   "outputs": [],
   "source": [
    "class NNpt(nn.Module):\n",
    "  def __init__(self,n_features):\n",
    "    super(NNpt,self).__init__()\n",
    "    self.linear=nn.Linear(n_features,1)\n",
    "\n",
    "    self.linear.weight.detach().zero_()\n",
    "    self.linear.bias.detach().zero_()\n",
    "\n",
    "\n",
    "  def forward(self,x):\n",
    "    out=self.linear(x)\n",
    "    return out.view(-1)\n",
    "\n",
    "\n",
    "\n",
    "    "
   ]
  },
  {
   "cell_type": "code",
   "execution_count": null,
   "metadata": {
    "id": "HQNqqR33nsLH"
   },
   "outputs": [],
   "source": [
    "def train(model,x,y,n_epoch=10,lr=0.001,seed=23,bsz=50):\n",
    "\n",
    "  cost=[]\n",
    "  torch.manual_seed(seed)\n",
    "\n",
    "  optimizer=torch.optim.SGD(model.parameters(),lr=lr)\n",
    "  for i in range(n_epoch):\n",
    "    suffle_idx=torch.randperm(y.size(0))\n",
    "    batches=torch.split(suffle_idx,bsz)\n",
    "\n",
    "    for idx in batches:\n",
    "      yhat=model.forward(x[idx])\n",
    "      loss=torch.nn.functional.mse_loss(yhat,y[idx])\n",
    "\n",
    "\n",
    "      optimizer.zero_grad()\n",
    "      loss.backward()\n",
    "      optimizer.step()\n",
    "\n",
    "      #model.weight=model.weight-lr*grad_w\n",
    "      #model.bias=model.bias-lr*grad_b\n",
    "\n",
    "\n",
    "    with torch.no_grad():\n",
    "      yhat=model.forward(x)\n",
    "      curr_loss=loss_fn(yhat,y)\n",
    "      print('Epoc: %3d ' % (i+1),end=\"\")\n",
    "      print('| MSE % .5f' % curr_loss)\n",
    "      cost.append(curr_loss)\n",
    "      \n",
    "  return cost"
   ]
  },
  {
   "cell_type": "code",
   "execution_count": null,
   "metadata": {
    "id": "sPFjue7WlmW-"
   },
   "outputs": [],
   "source": [
    "n_feature=X_train.size(1)\n",
    "model=NNpt(n_features=n_feature)\n"
   ]
  },
  {
   "cell_type": "code",
   "execution_count": null,
   "metadata": {
    "colab": {
     "base_uri": "https://localhost:8080/"
    },
    "id": "li9AFeIanQZS",
    "outputId": "ed263a2b-8750-49ea-ada3-27a0ed0fe139"
   },
   "outputs": [
    {
     "name": "stdout",
     "output_type": "stream",
     "text": [
      "Epoc:   1 | MSE  0.45849\n",
      "Epoc:   2 | MSE  0.42652\n",
      "Epoc:   3 | MSE  0.39790\n",
      "Epoc:   4 | MSE  0.37225\n",
      "Epoc:   5 | MSE  0.34918\n",
      "Epoc:   6 | MSE  0.32841\n",
      "Epoc:   7 | MSE  0.30965\n",
      "Epoc:   8 | MSE  0.29267\n",
      "Epoc:   9 | MSE  0.27726\n",
      "Epoc:  10 | MSE  0.26326\n",
      "Epoc:  11 | MSE  0.25051\n",
      "Epoc:  12 | MSE  0.23886\n",
      "Epoc:  13 | MSE  0.22821\n",
      "Epoc:  14 | MSE  0.21846\n",
      "Epoc:  15 | MSE  0.20951\n",
      "Epoc:  16 | MSE  0.20127\n",
      "Epoc:  17 | MSE  0.19367\n",
      "Epoc:  18 | MSE  0.18665\n",
      "Epoc:  19 | MSE  0.18017\n",
      "Epoc:  20 | MSE  0.17417\n",
      "Epoc:  21 | MSE  0.16860\n",
      "Epoc:  22 | MSE  0.16343\n",
      "Epoc:  23 | MSE  0.15862\n",
      "Epoc:  24 | MSE  0.15414\n",
      "Epoc:  25 | MSE  0.14996\n",
      "Epoc:  26 | MSE  0.14606\n",
      "Epoc:  27 | MSE  0.14241\n",
      "Epoc:  28 | MSE  0.13900\n",
      "Epoc:  29 | MSE  0.13582\n",
      "Epoc:  30 | MSE  0.13283\n",
      "Epoc:  31 | MSE  0.13003\n",
      "Epoc:  32 | MSE  0.12740\n",
      "Epoc:  33 | MSE  0.12494\n",
      "Epoc:  34 | MSE  0.12262\n",
      "Epoc:  35 | MSE  0.12045\n",
      "Epoc:  36 | MSE  0.11840\n",
      "Epoc:  37 | MSE  0.11648\n",
      "Epoc:  38 | MSE  0.11467\n",
      "Epoc:  39 | MSE  0.11296\n",
      "Epoc:  40 | MSE  0.11136\n",
      "Epoc:  41 | MSE  0.10984\n",
      "Epoc:  42 | MSE  0.10842\n",
      "Epoc:  43 | MSE  0.10707\n",
      "Epoc:  44 | MSE  0.10581\n",
      "Epoc:  45 | MSE  0.10461\n",
      "Epoc:  46 | MSE  0.10348\n",
      "Epoc:  47 | MSE  0.10242\n",
      "Epoc:  48 | MSE  0.10142\n",
      "Epoc:  49 | MSE  0.10047\n",
      "Epoc:  50 | MSE  0.09958\n"
     ]
    }
   ],
   "source": [
    "cost=train(model,X_train,y_train,n_epoch=50)"
   ]
  },
  {
   "cell_type": "code",
   "execution_count": null,
   "metadata": {
    "colab": {
     "base_uri": "https://localhost:8080/",
     "height": 296
    },
    "id": "U7FElcjK6m8I",
    "outputId": "8394df38-0852-4d6c-b301-a425e66dc615"
   },
   "outputs": [
    {
     "data": {
      "text/plain": [
       "[]"
      ]
     },
     "execution_count": 34,
     "metadata": {},
     "output_type": "execute_result"
    },
    {
     "data": {
      "image/png": "[encoded data removed]",
      "text/plain": [
       "<Figure size 432x288 with 1 Axes>"
      ]
     },
     "metadata": {
      "needs_background": "light"
     },
     "output_type": "display_data"
    }
   ],
   "source": [
    "plt.plot(range(len(cost)),cost)\n",
    "plt.xlabel('No of Epochs')\n",
    "plt.ylabel('Mean Squared Error')\n",
    "plt.plot()"
   ]
  },
  {
   "cell_type": "code",
   "execution_count": null,
   "metadata": {
    "colab": {
     "base_uri": "https://localhost:8080/"
    },
    "id": "gb4XmG8W7UjJ",
    "outputId": "7af9b4ac-23bf-40e8-839c-287257d11d09"
   },
   "outputs": [
    {
     "name": "stdout",
     "output_type": "stream",
     "text": [
      "Training Accuracy : 0.88\n",
      "Testing Accuracy: 0.89\n"
     ]
    }
   ],
   "source": [
    "ones=torch.ones(y_train.size(0))\n",
    "zero=torch.zeros(y_train.size(0))\n",
    "train_pred=model.forward(X_train)\n",
    "\n",
    "train_acc=torch.mean((torch.where( train_pred >0.5 , ones,zero).int()==y_train).float())\n",
    "#print(train_acc)\n",
    "\n",
    "ones=torch.ones(y_test.size(0))\n",
    "zero=torch.zeros(y_test.size(0))\n",
    "test_pred=model.forward(X_test)\n",
    "\n",
    "test_acc=torch.mean((torch.where( test_pred >0.5 , ones,zero).int()==y_test).float())\n",
    "print('Training Accuracy : %.2f' % train_acc)\n",
    "print('Testing Accuracy: %.2f' % test_acc)"
   ]
  }
 ],
 "metadata": {
  "colab": {
   "name": "Check-1.ipynb",
   "provenance": []
  },
  "kernelspec": {
   "display_name": "Python 3",
   "language": "python",
   "name": "python3"
  },
  "language_info": {
   "codemirror_mode": {
    "name": "ipython",
    "version": 3
   },
   "file_extension": ".py",
   "mimetype": "text/x-python",
   "name": "python",
   "nbconvert_exporter": "python",
   "pygments_lexer": "ipython3",
   "version": "3.8.3"
  }
 },
 "nbformat": 4,
 "nbformat_minor": 1
}
